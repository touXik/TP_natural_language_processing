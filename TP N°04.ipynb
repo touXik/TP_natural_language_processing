{
 "cells": [
  {
   "cell_type": "markdown",
   "metadata": {},
   "source": [
    "# TP N°04 : Vectorisation de Texte avec TF-IDF et Word2Vec"
   ]
  },
  {
   "cell_type": "markdown",
   "metadata": {},
   "source": [
    "### importation des bibliotheque nécessaires"
   ]
  },
  {
   "cell_type": "code",
   "execution_count": 13,
   "metadata": {},
   "outputs": [],
   "source": [
    "import pandas as pd\n",
    "import nltk\n",
    "from nltk.tokenize import word_tokenize, sent_tokenize\n",
    "from nltk.corpus import wordnet\n",
    "from nltk.stem import WordNetLemmatizer\n",
    "import re\n",
    "\n",
    "from sklearn.feature_extraction.text import TfidfVectorizer\n"
   ]
  },
  {
   "cell_type": "markdown",
   "metadata": {},
   "source": [
    "### Téléchargement des ressources NLTK nécessaires"
   ]
  },
  {
   "cell_type": "code",
   "execution_count": 14,
   "metadata": {},
   "outputs": [
    {
     "name": "stdout",
     "output_type": "stream",
     "text": [
      "[nltk_data] Downloading package punkt to C:\\Users\\user.user-\n",
      "[nltk_data]     PC\\AppData\\Roaming\\nltk_data...\n",
      "[nltk_data]   Package punkt is already up-to-date!\n",
      "[nltk_data] Downloading package averaged_perceptron_tagger to\n",
      "[nltk_data]     C:\\Users\\user.user-PC\\AppData\\Roaming\\nltk_data...\n",
      "[nltk_data]   Package averaged_perceptron_tagger is already up-to-\n",
      "[nltk_data]       date!\n",
      "[nltk_data] Downloading package wordnet to C:\\Users\\user.user-\n",
      "[nltk_data]     PC\\AppData\\Roaming\\nltk_data...\n",
      "[nltk_data]   Package wordnet is already up-to-date!\n"
     ]
    },
    {
     "data": {
      "text/plain": [
       "True"
      ]
     },
     "execution_count": 14,
     "metadata": {},
     "output_type": "execute_result"
    }
   ],
   "source": [
    "\n",
    "nltk.download('punkt')\n",
    "nltk.download('averaged_perceptron_tagger')\n",
    "nltk.download('wordnet')\n"
   ]
  },
  {
   "cell_type": "markdown",
   "metadata": {},
   "source": [
    "### importation du df fait au tp3"
   ]
  },
  {
   "cell_type": "code",
   "execution_count": 15,
   "metadata": {},
   "outputs": [
    {
     "data": {
      "text/html": [
       "<div>\n",
       "<style scoped>\n",
       "    .dataframe tbody tr th:only-of-type {\n",
       "        vertical-align: middle;\n",
       "    }\n",
       "\n",
       "    .dataframe tbody tr th {\n",
       "        vertical-align: top;\n",
       "    }\n",
       "\n",
       "    .dataframe thead th {\n",
       "        text-align: right;\n",
       "    }\n",
       "</style>\n",
       "<table border=\"1\" class=\"dataframe\">\n",
       "  <thead>\n",
       "    <tr style=\"text-align: right;\">\n",
       "      <th></th>\n",
       "      <th>token</th>\n",
       "      <th>lemme</th>\n",
       "      <th>pos</th>\n",
       "    </tr>\n",
       "  </thead>\n",
       "  <tbody>\n",
       "    <tr>\n",
       "      <th>0</th>\n",
       "      <td>according</td>\n",
       "      <td>accord</td>\n",
       "      <td>VBG</td>\n",
       "    </tr>\n",
       "    <tr>\n",
       "      <th>1</th>\n",
       "      <td>to</td>\n",
       "      <td>to</td>\n",
       "      <td>TO</td>\n",
       "    </tr>\n",
       "    <tr>\n",
       "      <th>2</th>\n",
       "      <td>gran</td>\n",
       "      <td>gran</td>\n",
       "      <td>NN</td>\n",
       "    </tr>\n",
       "    <tr>\n",
       "      <th>3</th>\n",
       "      <td>the</td>\n",
       "      <td>the</td>\n",
       "      <td>DT</td>\n",
       "    </tr>\n",
       "    <tr>\n",
       "      <th>4</th>\n",
       "      <td>company</td>\n",
       "      <td>company</td>\n",
       "      <td>NN</td>\n",
       "    </tr>\n",
       "  </tbody>\n",
       "</table>\n",
       "</div>"
      ],
      "text/plain": [
       "       token    lemme  pos\n",
       "0  according   accord  VBG\n",
       "1         to       to   TO\n",
       "2       gran     gran   NN\n",
       "3        the      the   DT\n",
       "4    company  company   NN"
      ]
     },
     "execution_count": 15,
     "metadata": {},
     "output_type": "execute_result"
    }
   ],
   "source": [
    "df =pd.read_csv(\"df_du_tp3.csv\")\n",
    "df.head()"
   ]
  },
  {
   "cell_type": "markdown",
   "metadata": {},
   "source": [
    "# ---------------------------------------------------------------------------------------------------------"
   ]
  },
  {
   "cell_type": "markdown",
   "metadata": {},
   "source": [
    "# 1) Représentation avec la méthode TF-IDF"
   ]
  },
  {
   "cell_type": "markdown",
   "metadata": {},
   "source": [
    "### Étape 1: Préparation des données pour TF-IDF"
   ]
  },
  {
   "cell_type": "code",
   "execution_count": 16,
   "metadata": {},
   "outputs": [],
   "source": [
    "\n",
    "corpus = [\" \".join(df['lemme'])]  # Concaténez les lemmes de chaque ligne pour former un document\n"
   ]
  },
  {
   "cell_type": "markdown",
   "metadata": {},
   "source": [
    "### Étape 2: Vectorisation TF-IDF"
   ]
  },
  {
   "cell_type": "code",
   "execution_count": 17,
   "metadata": {},
   "outputs": [],
   "source": [
    "vectorizer = TfidfVectorizer()\n",
    "tfidf_matrix = vectorizer.fit_transform(corpus)\n"
   ]
  },
  {
   "cell_type": "markdown",
   "metadata": {},
   "source": [
    "### la représentation TF-IDF sous forme de tableau NumPy"
   ]
  },
  {
   "cell_type": "code",
   "execution_count": 18,
   "metadata": {},
   "outputs": [],
   "source": [
    "tfidf_array = tfidf_matrix.toarray()\n"
   ]
  },
  {
   "cell_type": "markdown",
   "metadata": {},
   "source": [
    "## TF-IDF Matrix"
   ]
  },
  {
   "cell_type": "code",
   "execution_count": 22,
   "metadata": {},
   "outputs": [
    {
     "data": {
      "text/plain": [
       "array([[0.02772435, 0.02772435, 0.0554487 , 0.0554487 , 0.0554487 ,\n",
       "        0.02772435, 0.02772435, 0.02772435, 0.0554487 , 0.11089739,\n",
       "        0.02772435, 0.0554487 , 0.02772435, 0.08317305, 0.02772435,\n",
       "        0.08317305, 0.02772435, 0.02772435, 0.19407044, 0.02772435,\n",
       "        0.02772435, 0.02772435, 0.02772435, 0.02772435, 0.02772435,\n",
       "        0.0554487 , 0.02772435, 0.02772435, 0.0554487 , 0.02772435,\n",
       "        0.02772435, 0.02772435, 0.16634609, 0.02772435, 0.02772435,\n",
       "        0.02772435, 0.02772435, 0.02772435, 0.02772435, 0.02772435,\n",
       "        0.08317305, 0.13862174, 0.02772435, 0.02772435, 0.08317305,\n",
       "        0.0554487 , 0.02772435, 0.02772435, 0.02772435, 0.24951914,\n",
       "        0.11089739, 0.02772435, 0.02772435, 0.02772435, 0.13862174,\n",
       "        0.02772435, 0.02772435, 0.02772435, 0.02772435, 0.02772435,\n",
       "        0.02772435, 0.02772435, 0.02772435, 0.02772435, 0.16634609,\n",
       "        0.02772435, 0.0554487 , 0.16634609, 0.02772435, 0.0554487 ,\n",
       "        0.36041653, 0.02772435, 0.02772435, 0.02772435, 0.11089739,\n",
       "        0.02772435, 0.02772435, 0.0554487 , 0.0554487 , 0.02772435,\n",
       "        0.02772435, 0.02772435, 0.08317305, 0.13862174, 0.02772435,\n",
       "        0.02772435, 0.0554487 , 0.02772435, 0.02772435, 0.02772435,\n",
       "        0.02772435, 0.0554487 , 0.02772435, 0.02772435, 0.16634609,\n",
       "        0.02772435, 0.02772435, 0.02772435, 0.02772435, 0.02772435,\n",
       "        0.0554487 , 0.02772435, 0.02772435, 0.02772435, 0.02772435,\n",
       "        0.02772435, 0.02772435, 0.02772435, 0.02772435, 0.02772435,\n",
       "        0.52676262, 0.02772435, 0.02772435, 0.36041653, 0.02772435,\n",
       "        0.02772435, 0.02772435, 0.02772435, 0.02772435, 0.02772435,\n",
       "        0.0554487 , 0.02772435, 0.02772435, 0.0554487 , 0.0554487 ,\n",
       "        0.02772435]])"
      ]
     },
     "execution_count": 22,
     "metadata": {},
     "output_type": "execute_result"
    }
   ],
   "source": [
    "tfidf_array"
   ]
  },
  {
   "cell_type": "markdown",
   "metadata": {},
   "source": [
    "### noms des fonctionnalités (mots) associés à chaque colonne"
   ]
  },
  {
   "cell_type": "code",
   "execution_count": 23,
   "metadata": {},
   "outputs": [],
   "source": [
    "feature_names = vectorizer.get_feature_names()"
   ]
  },
  {
   "cell_type": "markdown",
   "metadata": {},
   "source": [
    "## Feature Names"
   ]
  },
  {
   "cell_type": "code",
   "execution_count": 21,
   "metadata": {},
   "outputs": [
    {
     "data": {
      "text/plain": [
       "[u'10',\n",
       " u'20',\n",
       " u'2007',\n",
       " u'2010',\n",
       " u'accord',\n",
       " u'aggressively',\n",
       " u'all',\n",
       " u'although',\n",
       " u'an',\n",
       " u'and',\n",
       " u'area',\n",
       " u'aspocomp',\n",
       " u'basware',\n",
       " u'be',\n",
       " u'board',\n",
       " u'by',\n",
       " u'capacity',\n",
       " u'circuit',\n",
       " u'company',\n",
       " u'componenta',\n",
       " u'computer',\n",
       " u'contract',\n",
       " u'contrary',\n",
       " u'correspond',\n",
       " u'daily',\n",
       " u'demand',\n",
       " u'develop',\n",
       " u'double',\n",
       " u'earlier',\n",
       " u'elcoteq',\n",
       " u'electronic',\n",
       " u'employee',\n",
       " u'eur',\n",
       " u'eur131m',\n",
       " u'eur76m',\n",
       " u'eur7m',\n",
       " u'expect',\n",
       " u'facility',\n",
       " u'financing',\n",
       " u'focus',\n",
       " u'for',\n",
       " u'from',\n",
       " u'gran',\n",
       " u'grow',\n",
       " u'growth',\n",
       " u'have',\n",
       " u'hdi',\n",
       " u'host',\n",
       " u'improve',\n",
       " u'in',\n",
       " u'increase',\n",
       " u'increasingly',\n",
       " u'industry',\n",
       " u'international',\n",
       " u'it',\n",
       " u'laid',\n",
       " u'last',\n",
       " u'layoff',\n",
       " u'less',\n",
       " u'loss',\n",
       " u'margin',\n",
       " u'material',\n",
       " u'meet',\n",
       " u'meter',\n",
       " u'mn',\n",
       " u'more',\n",
       " u'move',\n",
       " u'net',\n",
       " u'new',\n",
       " u'no',\n",
       " u'of',\n",
       " u'off',\n",
       " u'office',\n",
       " u'on',\n",
       " u'operating',\n",
       " u'order',\n",
       " u'pcbs',\n",
       " u'period',\n",
       " u'plan',\n",
       " u'plant',\n",
       " u'postimees',\n",
       " u'print',\n",
       " u'production',\n",
       " u'profit',\n",
       " u'profitability',\n",
       " u'pursue',\n",
       " u'quarter',\n",
       " u'range',\n",
       " u'rank',\n",
       " u'raw',\n",
       " u'report',\n",
       " u'represent',\n",
       " u'rise',\n",
       " u'russia',\n",
       " u'sale',\n",
       " u'same',\n",
       " u'say',\n",
       " u'square',\n",
       " u'stage',\n",
       " u'statement',\n",
       " u'strategy',\n",
       " u'tallinn',\n",
       " u'target',\n",
       " u'technologically',\n",
       " u'technology',\n",
       " u'technopolis',\n",
       " u'telecommunication',\n",
       " u'ten',\n",
       " u'than',\n",
       " u'that',\n",
       " u'the',\n",
       " u'therefore',\n",
       " u'third',\n",
       " u'to',\n",
       " u'total',\n",
       " u'up',\n",
       " u'update',\n",
       " u'use',\n",
       " u'where',\n",
       " u'while',\n",
       " u'with',\n",
       " u'work',\n",
       " u'worker',\n",
       " u'would',\n",
       " u'year',\n",
       " u'zero']"
      ]
     },
     "execution_count": 21,
     "metadata": {},
     "output_type": "execute_result"
    }
   ],
   "source": [
    "feature_names"
   ]
  },
  {
   "cell_type": "markdown",
   "metadata": {},
   "source": [
    "# ---------------------------------------------------------------------------------------------------------"
   ]
  },
  {
   "cell_type": "markdown",
   "metadata": {},
   "source": [
    "# 2) Représentation avec la méthode Word2Vec"
   ]
  },
  {
   "cell_type": "code",
   "execution_count": null,
   "metadata": {},
   "outputs": [],
   "source": []
  }
 ],
 "metadata": {
  "kernelspec": {
   "display_name": "Python 2",
   "language": "python",
   "name": "python2"
  },
  "language_info": {
   "codemirror_mode": {
    "name": "ipython",
    "version": 2
   },
   "file_extension": ".py",
   "mimetype": "text/x-python",
   "name": "python",
   "nbconvert_exporter": "python",
   "pygments_lexer": "ipython2",
   "version": "2.7.18"
  }
 },
 "nbformat": 4,
 "nbformat_minor": 2
}
