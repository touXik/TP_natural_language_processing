{
 "cells": [
  {
   "cell_type": "code",
   "execution_count": 1,
   "metadata": {},
   "outputs": [],
   "source": [
    "import nltk\n",
    "from nltk.corpus import wordnet as wn\n",
    "from nltk.corpus import sentiwordnet as swn"
   ]
  },
  {
   "cell_type": "markdown",
   "metadata": {},
   "source": [
    "# WORDNET\n"
   ]
  },
  {
   "cell_type": "code",
   "execution_count": 2,
   "metadata": {},
   "outputs": [
    {
     "name": "stdout",
     "output_type": "stream",
     "text": [
      "[nltk_data] Downloading package wordnet to C:\\Users\\user.user-\n",
      "[nltk_data]     PC\\AppData\\Roaming\\nltk_data...\n",
      "(u'bank.n.01', ':', u'sloping land (especially the slope beside a body of water)')\n",
      "(' -', u'they pulled the canoe up on the bank')\n",
      "(' -', u'he sat on the bank of the river and watched the currents')\n",
      "(u'depository_financial_institution.n.01', ':', u'a financial institution that accepts deposits and channels the money into lending activities')\n",
      "(' -', u'he cashed a check at the bank')\n",
      "(' -', u'that bank holds the mortgage on my home')\n",
      "(u'bank.n.03', ':', u'a long ridge or pile')\n",
      "(' -', u'a huge bank of earth')\n",
      "(u'bank.n.04', ':', u'an arrangement of similar objects in a row or in tiers')\n",
      "(' -', u'he operated a bank of switches')\n",
      "(u'bank.n.05', ':', u'a supply or stock held in reserve for future use (especially in emergencies)')\n",
      "(u'bank.n.06', ':', u'the funds held by a gambling house or the dealer in some gambling games')\n",
      "(' -', u'he tried to break the bank at Monte Carlo')\n",
      "(u'bank.n.07', ':', u'a slope in the turn of a road or track; the outside is higher than the inside in order to reduce the effects of centrifugal force')\n",
      "(u'savings_bank.n.02', ':', u'a container (usually with a slot in the top) for keeping money at home')\n",
      "(' -', u'the coin bank was empty')\n",
      "(u'bank.n.09', ':', u'a building in which the business of banking transacted')\n",
      "(' -', u'the bank is on the corner of Nassau and Witherspoon')\n",
      "(u'bank.n.10', ':', u'a flight maneuver; aircraft tips laterally about its longitudinal axis (especially in turning)')\n",
      "(' -', u'the plane went into a steep bank')\n",
      "(u'bank.v.01', ':', u'tip laterally')\n",
      "(' -', u'the pilot had to bank the aircraft')\n",
      "(u'bank.v.02', ':', u'enclose with a bank')\n",
      "(' -', u'bank roads')\n",
      "(u'bank.v.03', ':', u'do business with a bank or keep an account at a bank')\n",
      "(' -', u'Where do you bank in this town?')\n",
      "(u'bank.v.04', ':', u'act as the banker in a game or in gambling')\n",
      "(u'bank.v.05', ':', u'be in the banking business')\n",
      "(u'deposit.v.02', ':', u'put into a bank account')\n",
      "(' -', u'She deposits her paycheck every month')\n",
      "(u'bank.v.07', ':', u'cover with ashes so to control the rate of burning')\n",
      "(' -', u'bank a fire')\n",
      "(u'trust.v.01', ':', u'have confidence or faith in')\n",
      "(' -', u'We can trust in God')\n",
      "(' -', u'Rely on your friends')\n",
      "(' -', u'bank on your good education')\n",
      "(' -', u\"I swear by my grandmother's recipes\")\n"
     ]
    }
   ],
   "source": [
    "# WORDNET\n",
    "nltk.download('wordnet')\n",
    "\n",
    "# 1. Les différents sens du mot \"bank\"\n",
    "synsets_bank = wn.synsets('bank')\n",
    "for syn in synsets_bank:\n",
    "    print(syn.name(), \":\", syn.definition())\n",
    "    for example in syn.examples():\n",
    "        print(\" -\", example)"
   ]
  },
  {
   "cell_type": "code",
   "execution_count": 3,
   "metadata": {},
   "outputs": [
    {
     "name": "stdout",
     "output_type": "stream",
     "text": [
      "('\\nHyperonyms:', [Synset('motor_vehicle.n.01')])\n",
      "('Hyponyms:', [Synset('ambulance.n.01'), Synset('beach_wagon.n.01'), Synset('bus.n.04'), Synset('cab.n.03'), Synset('compact.n.03'), Synset('convertible.n.01'), Synset('coupe.n.01'), Synset('cruiser.n.01'), Synset('electric.n.01'), Synset('gas_guzzler.n.01'), Synset('hardtop.n.01'), Synset('hatchback.n.01'), Synset('horseless_carriage.n.01'), Synset('hot_rod.n.01'), Synset('jeep.n.01'), Synset('limousine.n.01'), Synset('loaner.n.02'), Synset('minicar.n.01'), Synset('minivan.n.01'), Synset('model_t.n.01'), Synset('pace_car.n.01'), Synset('racer.n.02'), Synset('roadster.n.01'), Synset('sedan.n.01'), Synset('sport_utility.n.01'), Synset('sports_car.n.01'), Synset('stanley_steamer.n.01'), Synset('stock_car.n.01'), Synset('subcompact.n.01'), Synset('touring_car.n.01'), Synset('used-car.n.01')])\n"
     ]
    }
   ],
   "source": [
    "\n",
    "# 2. Hyperonymes et hyponymes du mot \"car\"\n",
    "car_syn = wn.synset('car.n.01')\n",
    "print(\"\\nHyperonyms:\", car_syn.hypernyms())\n",
    "print(\"Hyponyms:\", car_syn.hyponyms())\n"
   ]
  },
  {
   "cell_type": "code",
   "execution_count": 4,
   "metadata": {},
   "outputs": [
    {
     "name": "stdout",
     "output_type": "stream",
     "text": [
      "('\\nPart Meronyms:', [Synset('burl.n.02'), Synset('crown.n.07'), Synset('limb.n.02'), Synset('stump.n.01'), Synset('trunk.n.01')])\n",
      "('Substance Meronyms:', [Synset('heartwood.n.01'), Synset('sapwood.n.01')])\n",
      "('Member Meronyms:', [])\n",
      "('\\nMember Holonyms:', [Synset('forest.n.01')])\n",
      "('Part Holonyms:', [])\n",
      "('Substance Holonyms:', [])\n"
     ]
    }
   ],
   "source": [
    "\n",
    "# 3. Méronymes et holonymes du mot \"tree\"\n",
    "tree_syn = wn.synset('tree.n.01')\n",
    "print(\"\\nPart Meronyms:\", tree_syn.part_meronyms())\n",
    "print(\"Substance Meronyms:\", tree_syn.substance_meronyms())\n",
    "print(\"Member Meronyms:\", tree_syn.member_meronyms())\n",
    "\n",
    "print(\"\\nMember Holonyms:\", tree_syn.member_holonyms())\n",
    "print(\"Part Holonyms:\", tree_syn.part_holonyms())\n",
    "print(\"Substance Holonyms:\", tree_syn.substance_holonyms())\n"
   ]
  },
  {
   "cell_type": "markdown",
   "metadata": {},
   "source": [
    "# SENTIWORDNET"
   ]
  },
  {
   "cell_type": "code",
   "execution_count": 6,
   "metadata": {},
   "outputs": [
    {
     "name": "stdout",
     "output_type": "stream",
     "text": [
      "[nltk_data] Downloading package sentiwordnet to C:\\Users\\user.user-\n",
      "[nltk_data]     PC\\AppData\\Roaming\\nltk_data...\n",
      "[nltk_data]   Unzipping corpora\\sentiwordnet.zip.\n",
      "('\\nScores for happy: Positive:', 0.875, 'Negative:', 0.0, 'Objective:', 0.125)\n"
     ]
    }
   ],
   "source": [
    "\n",
    "# SENTIWORDNET\n",
    "nltk.download('sentiwordnet')\n",
    "# 1. Scores de polarité pour \"happy\"\n",
    "happy = swn.senti_synset('happy.a.01')\n",
    "print(\"\\nScores for happy: Positive:\", happy.pos_score(),\n",
    "      \"Negative:\", happy.neg_score(),\n",
    "      \"Objective:\", happy.obj_score())"
   ]
  },
  {
   "cell_type": "code",
   "execution_count": 7,
   "metadata": {},
   "outputs": [
    {
     "name": "stdout",
     "output_type": "stream",
     "text": [
      "('\\nScores for sad: Positive:', 0.125, 'Negative:', 0.75, 'Objective:', 0.125)\n"
     ]
    }
   ],
   "source": [
    "\n",
    "# 2. Comparer les scores de polarité\n",
    "sad = swn.senti_synset('sad.a.01')\n",
    "print(\"\\nScores for sad: Positive:\", sad.pos_score(), \n",
    "      \"Negative:\", sad.neg_score(), \n",
    "      \"Objective:\", sad.obj_score())"
   ]
  },
  {
   "cell_type": "code",
   "execution_count": 8,
   "metadata": {},
   "outputs": [
    {
     "name": "stdout",
     "output_type": "stream",
     "text": [
      "\n",
      "Scores for Good :\n",
      "('\\n', u'good.n.01', ':', u'benefit', '\\n', 'Positive:', 0.5, 'Negative:', 0.0, 'Objective:', 0.5)\n",
      "('\\n', u'good.n.02', ':', u'moral excellence or admirableness', '\\n', 'Positive:', 0.875, 'Negative:', 0.0, 'Objective:', 0.125)\n",
      "('\\n', u'good.n.03', ':', u'that which is pleasing or valuable or useful', '\\n', 'Positive:', 0.625, 'Negative:', 0.0, 'Objective:', 0.375)\n",
      "('\\n', u'commodity.n.01', ':', u'articles of commerce', '\\n', 'Positive:', 0.0, 'Negative:', 0.0, 'Objective:', 1.0)\n",
      "('\\n', u'good.a.01', ':', u'having desirable or positive qualities especially those suitable for a thing specified', '\\n', 'Positive:', 0.75, 'Negative:', 0.0, 'Objective:', 0.25)\n",
      "('\\n', u'full.s.06', ':', u'having the normally expected amount', '\\n', 'Positive:', 0.0, 'Negative:', 0.0, 'Objective:', 1.0)\n",
      "('\\n', u'good.a.03', ':', u'morally admirable', '\\n', 'Positive:', 1.0, 'Negative:', 0.0, 'Objective:', 0.0)\n",
      "('\\n', u'estimable.s.02', ':', u'deserving of esteem and respect', '\\n', 'Positive:', 1.0, 'Negative:', 0.0, 'Objective:', 0.0)\n",
      "('\\n', u'beneficial.s.01', ':', u'promoting or enhancing well-being', '\\n', 'Positive:', 0.625, 'Negative:', 0.0, 'Objective:', 0.375)\n",
      "('\\n', u'good.s.06', ':', u'agreeable or pleasing', '\\n', 'Positive:', 1.0, 'Negative:', 0.0, 'Objective:', 0.0)\n",
      "('\\n', u'good.s.07', ':', u'of moral excellence', '\\n', 'Positive:', 0.75, 'Negative:', 0.0, 'Objective:', 0.25)\n",
      "('\\n', u'adept.s.01', ':', u'having or showing knowledge and skill and aptitude', '\\n', 'Positive:', 0.625, 'Negative:', 0.0, 'Objective:', 0.375)\n",
      "('\\n', u'good.s.09', ':', u'thorough', '\\n', 'Positive:', 0.625, 'Negative:', 0.0, 'Objective:', 0.375)\n",
      "('\\n', u'dear.s.02', ':', u'with or in a close or intimate relationship', '\\n', 'Positive:', 0.5, 'Negative:', 0.0, 'Objective:', 0.5)\n",
      "('\\n', u'dependable.s.04', ':', u'financially sound', '\\n', 'Positive:', 0.5, 'Negative:', 0.0, 'Objective:', 0.5)\n",
      "('\\n', u'good.s.12', ':', u'most suitable or right for a particular purpose', '\\n', 'Positive:', 0.375, 'Negative:', 0.0, 'Objective:', 0.625)\n",
      "('\\n', u'good.s.13', ':', u'resulting favorably', '\\n', 'Positive:', 0.625, 'Negative:', 0.0, 'Objective:', 0.375)\n",
      "('\\n', u'effective.s.04', ':', u'exerting force or influence', '\\n', 'Positive:', 0.0, 'Negative:', 0.0, 'Objective:', 1.0)\n",
      "('\\n', u'good.s.15', ':', u'capable of pleasing', '\\n', 'Positive:', 0.625, 'Negative:', 0.0, 'Objective:', 0.375)\n",
      "('\\n', u'good.s.16', ':', u'appealing to the mind', '\\n', 'Positive:', 0.75, 'Negative:', 0.0, 'Objective:', 0.25)\n",
      "('\\n', u'good.s.17', ':', u'in excellent physical condition', '\\n', 'Positive:', 0.75, 'Negative:', 0.0, 'Objective:', 0.25)\n",
      "('\\n', u'good.s.18', ':', u'tending to promote physical well-being; beneficial to health', '\\n', 'Positive:', 0.875, 'Negative:', 0.0, 'Objective:', 0.125)\n",
      "('\\n', u'good.s.19', ':', u'not forged', '\\n', 'Positive:', 0.5, 'Negative:', 0.0, 'Objective:', 0.5)\n",
      "('\\n', u'good.s.20', ':', u'not left to spoil', '\\n', 'Positive:', 0.375, 'Negative:', 0.125, 'Objective:', 0.5)\n",
      "('\\n', u'good.s.21', ':', u'generally admired', '\\n', 'Positive:', 0.75, 'Negative:', 0.0, 'Objective:', 0.25)\n",
      "('\\n', u'well.r.01', ':', u\"(often used as a combining form) in a good or proper or satisfactory manner or to a high standard (`good' is a nonstandard dialectal variant for `well')\", '\\n', 'Positive:', 0.375, 'Negative:', 0.0, 'Objective:', 0.625)\n",
      "('\\n', u'thoroughly.r.02', ':', u\"completely and absolutely (`good' is sometimes used informally for `thoroughly')\", '\\n', 'Positive:', 0.0, 'Negative:', 0.0, 'Objective:', 1.0)\n"
     ]
    }
   ],
   "source": [
    "\n",
    "\n",
    "# 3. Synsets associés au mot \"love\" et leurs scores\n",
    "print(\"\\nScores for Good :\")\n",
    "for syn in wn.synsets('good'):\n",
    "    senti_syn = swn.senti_synset(syn.name())\n",
    "    print(\"\\n\", syn.name(), \":\", syn.definition(), \"\\n\",\n",
    "           \"Positive:\", senti_syn.pos_score(), \n",
    "          \"Negative:\", senti_syn.neg_score(), \n",
    "          \"Objective:\", senti_syn.obj_score())\n"
   ]
  },
  {
   "cell_type": "code",
   "execution_count": 9,
   "metadata": {},
   "outputs": [
    {
     "name": "stdout",
     "output_type": "stream",
     "text": [
      "\n",
      "Scores for Book :\n",
      "('\\n', u'book.n.01', ':', u'a written work or composition that has been published (printed on pages bound together)', '\\n', 'Positive:', 0.0, 'Negative:', 0.0, 'Objective:', 1.0)\n",
      "('\\n', u'book.n.02', ':', u'physical objects consisting of a number of pages bound together', '\\n', 'Positive:', 0.0, 'Negative:', 0.0, 'Objective:', 1.0)\n",
      "('\\n', u'record.n.05', ':', u'a compilation of the known facts regarding something or someone', '\\n', 'Positive:', 0.0, 'Negative:', 0.0, 'Objective:', 1.0)\n",
      "('\\n', u'script.n.01', ':', u'a written version of a play or other dramatic composition; used in preparing for a performance', '\\n', 'Positive:', 0.0, 'Negative:', 0.0, 'Objective:', 1.0)\n",
      "('\\n', u'ledger.n.01', ':', u'a record in which commercial accounts are recorded', '\\n', 'Positive:', 0.0, 'Negative:', 0.0, 'Objective:', 1.0)\n",
      "('\\n', u'book.n.06', ':', u'a collection of playing cards satisfying the rules of a card game', '\\n', 'Positive:', 0.0, 'Negative:', 0.0, 'Objective:', 1.0)\n",
      "('\\n', u'book.n.07', ':', u'a collection of rules or prescribed standards on the basis of which decisions are made', '\\n', 'Positive:', 0.0, 'Negative:', 0.0, 'Objective:', 1.0)\n",
      "('\\n', u'koran.n.01', ':', u'the sacred writings of Islam revealed by God to the prophet Muhammad during his life at Mecca and Medina', '\\n', 'Positive:', 0.0, 'Negative:', 0.0, 'Objective:', 1.0)\n",
      "('\\n', u'bible.n.01', ':', u'the sacred writings of the Christian religions', '\\n', 'Positive:', 0.0, 'Negative:', 0.0, 'Objective:', 1.0)\n",
      "('\\n', u'book.n.10', ':', u'a major division of a long written composition', '\\n', 'Positive:', 0.0, 'Negative:', 0.0, 'Objective:', 1.0)\n",
      "('\\n', u'book.n.11', ':', u'a number of sheets (ticket or stamps etc.) bound together on one edge', '\\n', 'Positive:', 0.0, 'Negative:', 0.0, 'Objective:', 1.0)\n",
      "('\\n', u'book.v.01', ':', u'engage for a performance', '\\n', 'Positive:', 0.125, 'Negative:', 0.0, 'Objective:', 0.875)\n",
      "('\\n', u'reserve.v.04', ':', u'arrange for and reserve (something for someone else) in advance', '\\n', 'Positive:', 0.0, 'Negative:', 0.0, 'Objective:', 1.0)\n",
      "('\\n', u'book.v.03', ':', u'record a charge in a police register', '\\n', 'Positive:', 0.0, 'Negative:', 0.0, 'Objective:', 1.0)\n",
      "('\\n', u'book.v.04', ':', u'register in a hotel booker', '\\n', 'Positive:', 0.0, 'Negative:', 0.0, 'Objective:', 1.0)\n"
     ]
    }
   ],
   "source": [
    "\n",
    "# 4. Scores de polarité pour les différents sens de \"light\"\n",
    "print(\"\\nScores for Book :\")\n",
    "for syn in wn.synsets('book'):\n",
    "    senti_syn = swn.senti_synset(syn.name())\n",
    "    print(\"\\n\", syn.name(), \":\", syn.definition(), \"\\n\", \n",
    "          \"Positive:\", senti_syn.pos_score(), \n",
    "          \"Negative:\", senti_syn.neg_score(), \n",
    "          \"Objective:\", senti_syn.obj_score())"
   ]
  },
  {
   "cell_type": "code",
   "execution_count": null,
   "metadata": {},
   "outputs": [],
   "source": []
  }
 ],
 "metadata": {
  "kernelspec": {
   "display_name": "Python 2",
   "language": "python",
   "name": "python2"
  },
  "language_info": {
   "codemirror_mode": {
    "name": "ipython",
    "version": 2
   },
   "file_extension": ".py",
   "mimetype": "text/x-python",
   "name": "python",
   "nbconvert_exporter": "python",
   "pygments_lexer": "ipython2",
   "version": "2.7.18"
  }
 },
 "nbformat": 4,
 "nbformat_minor": 2
}
